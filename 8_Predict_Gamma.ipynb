{
 "cells": [
  {
   "cell_type": "markdown",
   "id": "1b94a29b",
   "metadata": {},
   "source": [
    "# Predict Gamma to use the model with the other base models in stacking"
   ]
  },
  {
   "cell_type": "code",
   "execution_count": 1,
   "id": "0a5eb04b",
   "metadata": {},
   "outputs": [],
   "source": [
    "%matplotlib inline\n",
    "import matplotlib.pyplot as plt\n",
    "import os\n",
    "import numpy as np\n",
    "import pandas as pd\n",
    "from sklearn.pipeline import Pipeline\n",
    "from sklearn.impute import SimpleImputer\n",
    "from sklearn.preprocessing import StandardScaler, OneHotEncoder\n",
    "from sklearn.compose import ColumnTransformer\n",
    "import xgboost\n",
    "import optuna\n",
    "from iterstrat.ml_stratifiers import MultilabelStratifiedKFold\n",
    "from copy import deepcopy\n",
    "from sklearn.metrics import confusion_matrix, log_loss, average_precision_score, multilabel_confusion_matrix\n",
    "import seaborn as sns\n",
    "from tqdm.notebook import tqdm\n",
    "from sklearn.decomposition import PCA\n",
    "import seaborn as sns"
   ]
  },
  {
   "cell_type": "code",
   "execution_count": 2,
   "id": "1d9771df",
   "metadata": {},
   "outputs": [],
   "source": [
    "folder = '/home/olli/Projects/Kaggle/ICR'"
   ]
  },
  {
   "cell_type": "code",
   "execution_count": 3,
   "id": "7ea9fe7b",
   "metadata": {},
   "outputs": [],
   "source": [
    "train_csv = 'train.csv'\n",
    "greek_csv = 'greeks.csv'\n",
    "test_csv = 'test.csv'"
   ]
  },
  {
   "cell_type": "code",
   "execution_count": 4,
   "id": "d7113702",
   "metadata": {},
   "outputs": [],
   "source": [
    "train_csv_path = os.path.join(folder, train_csv)\n",
    "greek_csv_path = os.path.join(folder, greek_csv)"
   ]
  },
  {
   "cell_type": "code",
   "execution_count": 5,
   "id": "ea521a49",
   "metadata": {},
   "outputs": [],
   "source": [
    "df = pd.read_csv(train_csv_path)\n",
    "df_g = pd.read_csv(greek_csv_path)"
   ]
  },
  {
   "cell_type": "markdown",
   "id": "14b7fbbc",
   "metadata": {},
   "source": [
    "# Preprocess Pipeline"
   ]
  },
  {
   "cell_type": "code",
   "execution_count": 6,
   "id": "fb6999ae",
   "metadata": {},
   "outputs": [],
   "source": [
    "cat_features = ['EJ']\n",
    "num_features = list(df.columns)\n",
    "for remove_value in ['Id', 'EJ', 'Class']:\n",
    "    num_features.remove(remove_value)"
   ]
  },
  {
   "cell_type": "code",
   "execution_count": 7,
   "id": "6e318748",
   "metadata": {},
   "outputs": [],
   "source": [
    "imputer_num = SimpleImputer(strategy='median')\n",
    "imputer_cat = SimpleImputer(strategy='most_frequent')"
   ]
  },
  {
   "cell_type": "code",
   "execution_count": 8,
   "id": "a2d9a4a7",
   "metadata": {},
   "outputs": [],
   "source": [
    "# use a standardscaler due to the outliers\n",
    "scaler_num = StandardScaler()"
   ]
  },
  {
   "cell_type": "code",
   "execution_count": 9,
   "id": "9c1b81db",
   "metadata": {},
   "outputs": [],
   "source": [
    "encoder_cat = OneHotEncoder(sparse_output=False)"
   ]
  },
  {
   "cell_type": "code",
   "execution_count": 10,
   "id": "9c4d3f1a",
   "metadata": {},
   "outputs": [],
   "source": [
    "num_pipeline = Pipeline([\n",
    "    ('Num_Imputer', imputer_num),\n",
    "    ('Num_Scaler', scaler_num)\n",
    "])"
   ]
  },
  {
   "cell_type": "code",
   "execution_count": 11,
   "id": "72e2ae14",
   "metadata": {},
   "outputs": [],
   "source": [
    "cat_pipeline = Pipeline([\n",
    "    ('Cat_Imputer', imputer_cat),\n",
    "    ('Cat_Encoder', encoder_cat)\n",
    "])"
   ]
  },
  {
   "cell_type": "code",
   "execution_count": 12,
   "id": "642fc757",
   "metadata": {},
   "outputs": [],
   "source": [
    "preprocess_pipe = ColumnTransformer([\n",
    "    ('Num_Pipe', num_pipeline, num_features),\n",
    "    ('Cat_Pipe', cat_pipeline, cat_features)\n",
    "])"
   ]
  },
  {
   "cell_type": "code",
   "execution_count": 13,
   "id": "93f93534",
   "metadata": {},
   "outputs": [],
   "source": [
    "# merge dfs; use same split like in final training\n",
    "X_DF = df.copy()\n",
    "X_DF['Alpha'] = df_g.Alpha\n",
    "X_DF['Gamma'] = df_g.Gamma"
   ]
  },
  {
   "cell_type": "code",
   "execution_count": 14,
   "id": "d186c590",
   "metadata": {},
   "outputs": [
    {
     "data": {
      "text/html": [
       "<div>\n",
       "<style scoped>\n",
       "    .dataframe tbody tr th:only-of-type {\n",
       "        vertical-align: middle;\n",
       "    }\n",
       "\n",
       "    .dataframe tbody tr th {\n",
       "        vertical-align: top;\n",
       "    }\n",
       "\n",
       "    .dataframe thead th {\n",
       "        text-align: right;\n",
       "    }\n",
       "</style>\n",
       "<table border=\"1\" class=\"dataframe\">\n",
       "  <thead>\n",
       "    <tr style=\"text-align: right;\">\n",
       "      <th></th>\n",
       "      <th>Id</th>\n",
       "      <th>AB</th>\n",
       "      <th>AF</th>\n",
       "      <th>AH</th>\n",
       "      <th>AM</th>\n",
       "      <th>AR</th>\n",
       "      <th>AX</th>\n",
       "      <th>AY</th>\n",
       "      <th>AZ</th>\n",
       "      <th>BC</th>\n",
       "      <th>...</th>\n",
       "      <th>FS</th>\n",
       "      <th>GB</th>\n",
       "      <th>GE</th>\n",
       "      <th>GF</th>\n",
       "      <th>GH</th>\n",
       "      <th>GI</th>\n",
       "      <th>GL</th>\n",
       "      <th>Class</th>\n",
       "      <th>Alpha</th>\n",
       "      <th>Gamma</th>\n",
       "    </tr>\n",
       "  </thead>\n",
       "  <tbody>\n",
       "    <tr>\n",
       "      <th>0</th>\n",
       "      <td>000ff2bfdfe9</td>\n",
       "      <td>0.209377</td>\n",
       "      <td>3109.03329</td>\n",
       "      <td>85.200147</td>\n",
       "      <td>22.394407</td>\n",
       "      <td>8.138688</td>\n",
       "      <td>0.699861</td>\n",
       "      <td>0.025578</td>\n",
       "      <td>9.812214</td>\n",
       "      <td>5.555634</td>\n",
       "      <td>...</td>\n",
       "      <td>0.094822</td>\n",
       "      <td>11.339138</td>\n",
       "      <td>72.611063</td>\n",
       "      <td>2003.810319</td>\n",
       "      <td>22.136229</td>\n",
       "      <td>69.834944</td>\n",
       "      <td>0.120343</td>\n",
       "      <td>1</td>\n",
       "      <td>B</td>\n",
       "      <td>G</td>\n",
       "    </tr>\n",
       "    <tr>\n",
       "      <th>1</th>\n",
       "      <td>007255e47698</td>\n",
       "      <td>0.145282</td>\n",
       "      <td>978.76416</td>\n",
       "      <td>85.200147</td>\n",
       "      <td>36.968889</td>\n",
       "      <td>8.138688</td>\n",
       "      <td>3.632190</td>\n",
       "      <td>0.025578</td>\n",
       "      <td>13.517790</td>\n",
       "      <td>1.229900</td>\n",
       "      <td>...</td>\n",
       "      <td>0.568932</td>\n",
       "      <td>9.292698</td>\n",
       "      <td>72.611063</td>\n",
       "      <td>27981.562750</td>\n",
       "      <td>29.135430</td>\n",
       "      <td>32.131996</td>\n",
       "      <td>21.978000</td>\n",
       "      <td>0</td>\n",
       "      <td>A</td>\n",
       "      <td>M</td>\n",
       "    </tr>\n",
       "    <tr>\n",
       "      <th>2</th>\n",
       "      <td>013f2bd269f5</td>\n",
       "      <td>0.470030</td>\n",
       "      <td>2635.10654</td>\n",
       "      <td>85.200147</td>\n",
       "      <td>32.360553</td>\n",
       "      <td>8.138688</td>\n",
       "      <td>6.732840</td>\n",
       "      <td>0.025578</td>\n",
       "      <td>12.824570</td>\n",
       "      <td>1.229900</td>\n",
       "      <td>...</td>\n",
       "      <td>1.198821</td>\n",
       "      <td>37.077772</td>\n",
       "      <td>88.609437</td>\n",
       "      <td>13676.957810</td>\n",
       "      <td>28.022851</td>\n",
       "      <td>35.192676</td>\n",
       "      <td>0.196941</td>\n",
       "      <td>0</td>\n",
       "      <td>A</td>\n",
       "      <td>M</td>\n",
       "    </tr>\n",
       "    <tr>\n",
       "      <th>3</th>\n",
       "      <td>043ac50845d5</td>\n",
       "      <td>0.252107</td>\n",
       "      <td>3819.65177</td>\n",
       "      <td>120.201618</td>\n",
       "      <td>77.112203</td>\n",
       "      <td>8.138688</td>\n",
       "      <td>3.685344</td>\n",
       "      <td>0.025578</td>\n",
       "      <td>11.053708</td>\n",
       "      <td>1.229900</td>\n",
       "      <td>...</td>\n",
       "      <td>0.284466</td>\n",
       "      <td>18.529584</td>\n",
       "      <td>82.416803</td>\n",
       "      <td>2094.262452</td>\n",
       "      <td>39.948656</td>\n",
       "      <td>90.493248</td>\n",
       "      <td>0.155829</td>\n",
       "      <td>0</td>\n",
       "      <td>A</td>\n",
       "      <td>M</td>\n",
       "    </tr>\n",
       "    <tr>\n",
       "      <th>4</th>\n",
       "      <td>044fb8a146ec</td>\n",
       "      <td>0.380297</td>\n",
       "      <td>3733.04844</td>\n",
       "      <td>85.200147</td>\n",
       "      <td>14.103738</td>\n",
       "      <td>8.138688</td>\n",
       "      <td>3.942255</td>\n",
       "      <td>0.054810</td>\n",
       "      <td>3.396778</td>\n",
       "      <td>102.151980</td>\n",
       "      <td>...</td>\n",
       "      <td>0.121914</td>\n",
       "      <td>16.408728</td>\n",
       "      <td>146.109943</td>\n",
       "      <td>8524.370502</td>\n",
       "      <td>45.381316</td>\n",
       "      <td>36.262628</td>\n",
       "      <td>0.096614</td>\n",
       "      <td>1</td>\n",
       "      <td>D</td>\n",
       "      <td>F</td>\n",
       "    </tr>\n",
       "  </tbody>\n",
       "</table>\n",
       "<p>5 rows × 60 columns</p>\n",
       "</div>"
      ],
      "text/plain": [
       "             Id        AB          AF          AH         AM        AR  \\\n",
       "0  000ff2bfdfe9  0.209377  3109.03329   85.200147  22.394407  8.138688   \n",
       "1  007255e47698  0.145282   978.76416   85.200147  36.968889  8.138688   \n",
       "2  013f2bd269f5  0.470030  2635.10654   85.200147  32.360553  8.138688   \n",
       "3  043ac50845d5  0.252107  3819.65177  120.201618  77.112203  8.138688   \n",
       "4  044fb8a146ec  0.380297  3733.04844   85.200147  14.103738  8.138688   \n",
       "\n",
       "         AX        AY         AZ          BC  ...        FS         GB  \\\n",
       "0  0.699861  0.025578   9.812214    5.555634  ...  0.094822  11.339138   \n",
       "1  3.632190  0.025578  13.517790    1.229900  ...  0.568932   9.292698   \n",
       "2  6.732840  0.025578  12.824570    1.229900  ...  1.198821  37.077772   \n",
       "3  3.685344  0.025578  11.053708    1.229900  ...  0.284466  18.529584   \n",
       "4  3.942255  0.054810   3.396778  102.151980  ...  0.121914  16.408728   \n",
       "\n",
       "           GE            GF         GH         GI         GL  Class  Alpha  \\\n",
       "0   72.611063   2003.810319  22.136229  69.834944   0.120343      1      B   \n",
       "1   72.611063  27981.562750  29.135430  32.131996  21.978000      0      A   \n",
       "2   88.609437  13676.957810  28.022851  35.192676   0.196941      0      A   \n",
       "3   82.416803   2094.262452  39.948656  90.493248   0.155829      0      A   \n",
       "4  146.109943   8524.370502  45.381316  36.262628   0.096614      1      D   \n",
       "\n",
       "   Gamma  \n",
       "0      G  \n",
       "1      M  \n",
       "2      M  \n",
       "3      M  \n",
       "4      F  \n",
       "\n",
       "[5 rows x 60 columns]"
      ]
     },
     "execution_count": 14,
     "metadata": {},
     "output_type": "execute_result"
    }
   ],
   "source": [
    "X_DF.head()"
   ]
  },
  {
   "cell_type": "markdown",
   "id": "ec5f1d12",
   "metadata": {},
   "source": [
    "Recall from Notebook_1: Gamma_M had the highest correlation with the Target and most datapoints were gamma_M. gamma_H also has a high correlation but were less datapoints."
   ]
  },
  {
   "cell_type": "markdown",
   "id": "aa069e39",
   "metadata": {},
   "source": [
    "# Function to add the multi-label"
   ]
  },
  {
   "cell_type": "code",
   "execution_count": 15,
   "id": "86871b35",
   "metadata": {},
   "outputs": [],
   "source": [
    "# Problem: The target is a pd series and need to be converted to a multi class numpy array\n",
    "\n",
    "def create_gamma_label(series, onehot=True):\n",
    "    df = series.copy()\n",
    "    \n",
    "    class_labels = []\n",
    "    \n",
    "    # for each values add the class number (M==0, H==1, other==2)\n",
    "    for value in df.values:\n",
    "        if value == 'M':\n",
    "            class_labels.append(0)\n",
    "        elif value == 'H':\n",
    "            class_labels.append(1)\n",
    "        else:\n",
    "            class_labels.append(2)\n",
    "            \n",
    "    # since this is a multiclass classification the labels need to be like this:\n",
    "    # [1, 0, 0] for [gamma_M, gamma_H, gamma_other]\n",
    "    labels_onehot = []\n",
    "    \n",
    "    for label in class_labels:\n",
    "        labels_onehot.append(np.eye(3)[label])  # makes easy onehot\n",
    "    \n",
    "    labels_onehot = np.array(labels_onehot)\n",
    "    \n",
    "    if onehot:\n",
    "        return labels_onehot\n",
    "    else:\n",
    "        return np.array(class_labels)"
   ]
  },
  {
   "cell_type": "code",
   "execution_count": 16,
   "id": "87f3ec17",
   "metadata": {},
   "outputs": [],
   "source": [
    "# check the function\n",
    "exp_gamma = X_DF['Gamma'].copy()"
   ]
  },
  {
   "cell_type": "code",
   "execution_count": 17,
   "id": "c84b2c83",
   "metadata": {},
   "outputs": [
    {
     "data": {
      "text/plain": [
       "0     G\n",
       "1     M\n",
       "2     M\n",
       "3     M\n",
       "4     F\n",
       "5     M\n",
       "6     M\n",
       "7     M\n",
       "8     M\n",
       "9     M\n",
       "10    F\n",
       "11    N\n",
       "12    N\n",
       "13    E\n",
       "14    M\n",
       "Name: Gamma, dtype: object"
      ]
     },
     "execution_count": 17,
     "metadata": {},
     "output_type": "execute_result"
    }
   ],
   "source": [
    "exp_gamma.head(n=15)"
   ]
  },
  {
   "cell_type": "code",
   "execution_count": 18,
   "id": "31e791cb",
   "metadata": {},
   "outputs": [],
   "source": [
    "exp_gamma_encoded = create_gamma_label(exp_gamma)"
   ]
  },
  {
   "cell_type": "code",
   "execution_count": 19,
   "id": "9b92517b",
   "metadata": {},
   "outputs": [
    {
     "data": {
      "text/plain": [
       "array([[0., 0., 1.],\n",
       "       [1., 0., 0.],\n",
       "       [1., 0., 0.],\n",
       "       [1., 0., 0.],\n",
       "       [0., 0., 1.],\n",
       "       [1., 0., 0.],\n",
       "       [1., 0., 0.],\n",
       "       [1., 0., 0.],\n",
       "       [1., 0., 0.],\n",
       "       [1., 0., 0.],\n",
       "       [0., 0., 1.],\n",
       "       [0., 0., 1.],\n",
       "       [0., 0., 1.],\n",
       "       [0., 0., 1.],\n",
       "       [1., 0., 0.]])"
      ]
     },
     "execution_count": 19,
     "metadata": {},
     "output_type": "execute_result"
    }
   ],
   "source": [
    "exp_gamma_encoded[:15]"
   ]
  },
  {
   "cell_type": "code",
   "execution_count": 20,
   "id": "4875acc5",
   "metadata": {},
   "outputs": [
    {
     "data": {
      "text/plain": [
       "M    445\n",
       "N     64\n",
       "H     53\n",
       "B     18\n",
       "A     11\n",
       "F     10\n",
       "G      8\n",
       "E      8\n",
       "Name: Gamma, dtype: int64"
      ]
     },
     "execution_count": 20,
     "metadata": {},
     "output_type": "execute_result"
    }
   ],
   "source": [
    "# Also calculate the initial weights to try\n",
    "exp_gamma.value_counts()"
   ]
  },
  {
   "cell_type": "code",
   "execution_count": 21,
   "id": "b3cdb413",
   "metadata": {},
   "outputs": [
    {
     "data": {
      "text/plain": [
       "617"
      ]
     },
     "execution_count": 21,
     "metadata": {},
     "output_type": "execute_result"
    }
   ],
   "source": [
    "len(exp_gamma)"
   ]
  },
  {
   "cell_type": "code",
   "execution_count": 22,
   "id": "af169a51",
   "metadata": {},
   "outputs": [],
   "source": [
    "exp_gamma_enc_2 = create_gamma_label(exp_gamma, onehot=False)"
   ]
  },
  {
   "cell_type": "code",
   "execution_count": 23,
   "id": "c7dd4730",
   "metadata": {},
   "outputs": [
    {
     "data": {
      "text/plain": [
       "array([2, 0, 0, 0, 2, 0, 0, 0, 0, 0, 2, 2, 2, 2, 0])"
      ]
     },
     "execution_count": 23,
     "metadata": {},
     "output_type": "execute_result"
    }
   ],
   "source": [
    "exp_gamma_enc_2[:15]"
   ]
  },
  {
   "cell_type": "code",
   "execution_count": 24,
   "id": "a1fd24f7",
   "metadata": {},
   "outputs": [
    {
     "data": {
      "text/plain": [
       "3"
      ]
     },
     "execution_count": 24,
     "metadata": {},
     "output_type": "execute_result"
    }
   ],
   "source": [
    "len(np.unique(exp_gamma_enc_2))"
   ]
  },
  {
   "cell_type": "code",
   "execution_count": 25,
   "id": "562d27a1",
   "metadata": {},
   "outputs": [
    {
     "name": "stdout",
     "output_type": "stream",
     "text": [
      "H: 8.39622641509434; other: 3.7394957983193278\n"
     ]
    }
   ],
   "source": [
    "# set weight M to 1\n",
    "# weight H\n",
    "print(f'H: {445 / 53}; other: {445 / (617 - 445 - 53)}' )"
   ]
  },
  {
   "cell_type": "markdown",
   "id": "f1dfcf8f",
   "metadata": {},
   "source": [
    "# Optimize Hyperparameters"
   ]
  },
  {
   "cell_type": "code",
   "execution_count": 26,
   "id": "7ff243eb",
   "metadata": {},
   "outputs": [],
   "source": [
    "def objective(trial):\n",
    "    \n",
    "    # weights\n",
    "    weight_M = trial.suggest_float('weight_M', 0.7, 1.5)\n",
    "    weight_H = trial.suggest_float('weight_H', 6, 11)\n",
    "    weight_other = trial.suggest_float('weight_other', 3, 4.5)\n",
    "    \n",
    "    # use the auc score here with weighted param for the imbalanced task and to utilize propapilities\n",
    "    scores = []\n",
    "\n",
    "    seeds = list(range(0, 10))\n",
    "\n",
    "    for seed in seeds:\n",
    "\n",
    "        cv = MultilabelStratifiedKFold(n_splits=5, shuffle=True, random_state=seed)\n",
    "\n",
    "        # use alpha+gamma to draw stratified samples\n",
    "        for train_index, valid_index in cv.split(X_DF, X_DF[['Alpha', 'Gamma']].copy()):\n",
    "\n",
    "            # take all columns for the features since the ColumnTransformer will only select the defined ones\n",
    "            X_train, y_train = X_DF.iloc[train_index], X_DF.loc[train_index, 'Gamma']\n",
    "            X_valid, y_valid = X_DF.iloc[valid_index], X_DF.loc[valid_index, 'Gamma']\n",
    "\n",
    "            # use defined pipeline\n",
    "            X_train = preprocess_pipe.fit_transform(X_train)\n",
    "            X_valid = preprocess_pipe.transform(X_valid)  # no fit\n",
    "\n",
    "            # apply function to add labels\n",
    "            y_train = create_gamma_label(y_train, onehot=False)\n",
    "            y_valid = create_gamma_label(y_valid, onehot=False)\n",
    "            \n",
    "            # create the sample weight to assign an individual weight for each point\n",
    "            dict_weight = {0:weight_M, 1:weight_H, 2: weight_other}\n",
    "            sample_weights = np.array([dict_weight[i] for i in y_train])\n",
    "            \n",
    "            xgb = xgboost.XGBClassifier(n_estimators=trial.suggest_int('n_estimators', 5, 1000),\n",
    "                                        max_depth=trial.suggest_int('max_depth', 2, 10),\n",
    "                                        learning_rate=trial.suggest_float('lr', 0.01, 1),\n",
    "                                        gamma=trial.suggest_float('gamma', 0, 1),\n",
    "                                        min_child_weight=trial.suggest_float('min_child_weight', 0, 10),\n",
    "                                        max_delta_step=trial.suggest_int('max_delta_step', 0, 10),\n",
    "                                        subsample=trial.suggest_float('subsample', 0.5, 1),\n",
    "                                        colsample_bynode=trial.suggest_float('colsample_bynode', 0.5, 1),\n",
    "                                        colsample_bytree=trial.suggest_float('colsample_bytree', 0.5, 1),\n",
    "                                        colsample_bylevel=trial.suggest_float('colsample_bylevel', 0.5, 1),\n",
    "                                        reg_lambda=trial.suggest_float('reg_lambda', 0.0001, 0.1, log=True),\n",
    "                                        objective='multi:softprob',\n",
    "                                        num_class=3,\n",
    "                                        #sample_weight=sample_weights,\n",
    "                                        )\n",
    "            xgb.fit(X_train,\n",
    "                    y_train,\n",
    "                    eval_set=[(X_train, y_train), (X_valid, y_valid)],\n",
    "                    sample_weight=sample_weights,\n",
    "                    early_stopping_rounds=trial.suggest_int('early_stop', 1, 1000),\n",
    "                    verbose=0\n",
    "                    )\n",
    "\n",
    "            xgb.fit(X_train, y_train)\n",
    "\n",
    "            y_val_pred = xgb.predict_proba(X_valid)  # currently (n_samples, 3) for 3 classes\n",
    "            \n",
    "            # y_valid is (n_samples, ) for xgb, metric needs onehot\n",
    "            y_valid_onehot = np.eye(len(np.unique(y_valid)))[y_valid]\n",
    "                        \n",
    "            score = average_precision_score(y_valid_onehot, y_val_pred, average='weighted')\n",
    "            scores.append(score)\n",
    "\n",
    "    final_score = np.array(scores).mean()\n",
    "\n",
    "    return final_score"
   ]
  },
  {
   "cell_type": "code",
   "execution_count": 27,
   "id": "2a6d0071",
   "metadata": {},
   "outputs": [
    {
     "name": "stderr",
     "output_type": "stream",
     "text": [
      "[I 2023-08-10 11:11:07,513] A new study created in memory with name: no-name-8a6db963-6020-4abb-b8bb-2f67528ce4b7\n"
     ]
    }
   ],
   "source": [
    "study = optuna.create_study(direction='maximize')"
   ]
  },
  {
   "cell_type": "code",
   "execution_count": 28,
   "id": "63585fbb",
   "metadata": {},
   "outputs": [],
   "source": [
    "import warnings\n",
    "warnings.filterwarnings('ignore')\n",
    "optuna.logging.set_verbosity(optuna.logging.WARNING)"
   ]
  },
  {
   "cell_type": "code",
   "execution_count": 29,
   "id": "9119e9cd",
   "metadata": {
    "scrolled": false
   },
   "outputs": [],
   "source": [
    "# rerun..\n",
    "#%%time\n",
    "#study.optimize(objective, n_trials=200, show_progress_bar=True)"
   ]
  },
  {
   "cell_type": "code",
   "execution_count": 30,
   "id": "5646d13f",
   "metadata": {},
   "outputs": [],
   "source": [
    "#study.best_value"
   ]
  },
  {
   "cell_type": "markdown",
   "id": "69b25870",
   "metadata": {},
   "source": [
    "0.9138"
   ]
  },
  {
   "cell_type": "code",
   "execution_count": 31,
   "id": "683b9b75",
   "metadata": {},
   "outputs": [],
   "source": [
    "#study.best_params"
   ]
  },
  {
   "cell_type": "markdown",
   "id": "dc7bcfd3",
   "metadata": {},
   "source": [
    "# Run 2"
   ]
  },
  {
   "cell_type": "code",
   "execution_count": 32,
   "id": "442a8bae",
   "metadata": {},
   "outputs": [],
   "source": [
    "def objective_2(trial):\n",
    "    \n",
    "    # weights\n",
    "    weight_M = trial.suggest_float('weight_M', 1.2, 1.7)\n",
    "    weight_H = trial.suggest_float('weight_H', 5, 7)\n",
    "    weight_other = trial.suggest_float('weight_other', 3.25, 4.25)\n",
    "    \n",
    "    # use the auc score here with weighted param for the imbalanced task and to utilize propapilities\n",
    "    scores = []\n",
    "\n",
    "    seeds = list(range(0, 10))\n",
    "\n",
    "    for seed in seeds:\n",
    "\n",
    "        cv = MultilabelStratifiedKFold(n_splits=5, shuffle=True, random_state=seed)\n",
    "\n",
    "        # use alpha+gamma to draw stratified samples\n",
    "        for train_index, valid_index in cv.split(X_DF, X_DF[['Alpha', 'Gamma']].copy()):\n",
    "\n",
    "            # take all columns for the features since the ColumnTransformer will only select the defined ones\n",
    "            X_train, y_train = X_DF.iloc[train_index], X_DF.loc[train_index, 'Gamma']\n",
    "            X_valid, y_valid = X_DF.iloc[valid_index], X_DF.loc[valid_index, 'Gamma']\n",
    "\n",
    "            # use defined pipeline\n",
    "            X_train = preprocess_pipe.fit_transform(X_train)\n",
    "            X_valid = preprocess_pipe.transform(X_valid)  # no fit\n",
    "\n",
    "            # apply function to add labels\n",
    "            y_train = create_gamma_label(y_train, onehot=False)\n",
    "            y_valid = create_gamma_label(y_valid, onehot=False)\n",
    "            \n",
    "            # create the sample weight to assign an individual weight for each point\n",
    "            dict_weight = {0:weight_M, 1:weight_H, 2: weight_other}\n",
    "            sample_weights = np.array([dict_weight[i] for i in y_train])\n",
    "            \n",
    "            xgb = xgboost.XGBClassifier(n_estimators=trial.suggest_int('n_estimators', 850, 910),\n",
    "                                        max_depth=3,\n",
    "                                        learning_rate=trial.suggest_float('lr', 0.02, 0.1),\n",
    "                                        gamma=trial.suggest_float('gamma', 0.05, 0.25),\n",
    "                                        min_child_weight=trial.suggest_float('min_child_weight', 0.6, 1),\n",
    "                                        max_delta_step=trial.suggest_int('max_delta_step', 6, 10),\n",
    "                                        subsample=trial.suggest_float('subsample', 0.5, 0.7),\n",
    "                                        colsample_bynode=trial.suggest_float('colsample_bynode', 0.85, 1),\n",
    "                                        colsample_bytree=trial.suggest_float('colsample_bytree', 0.75, 0.95),\n",
    "                                        colsample_bylevel=trial.suggest_float('colsample_bylevel', 0.4, 0.6),\n",
    "                                        reg_lambda=trial.suggest_float('reg_lambda', 0.1, 10, log=True),\n",
    "                                        objective='multi:softprob',\n",
    "                                        num_class=3,\n",
    "                                        #sample_weight=sample_weights,\n",
    "                                        )\n",
    "            xgb.fit(X_train,\n",
    "                    y_train,\n",
    "                    eval_set=[(X_train, y_train), (X_valid, y_valid)],\n",
    "                    sample_weight=sample_weights,\n",
    "                    early_stopping_rounds=trial.suggest_int('early_stop', 200, 260),\n",
    "                    verbose=0\n",
    "                    )\n",
    "\n",
    "            xgb.fit(X_train, y_train)\n",
    "\n",
    "            y_val_pred = xgb.predict_proba(X_valid)  # currently (n_samples, 3) for 3 classes\n",
    "            \n",
    "            # y_valid is (n_samples, ) for xgb, metric needs onehot\n",
    "            y_valid_onehot = np.eye(len(np.unique(y_valid)))[y_valid]\n",
    "                        \n",
    "            score = average_precision_score(y_valid_onehot, y_val_pred, average='weighted')\n",
    "            scores.append(score)\n",
    "\n",
    "    final_score = np.array(scores).mean()\n",
    "\n",
    "    return final_score"
   ]
  },
  {
   "cell_type": "code",
   "execution_count": 33,
   "id": "df978a84",
   "metadata": {},
   "outputs": [],
   "source": [
    "study_2 = optuna.create_study(direction='maximize')"
   ]
  },
  {
   "cell_type": "code",
   "execution_count": 34,
   "id": "585ead84",
   "metadata": {
    "scrolled": false
   },
   "outputs": [],
   "source": [
    "#%%time\n",
    "#study_2.optimize(objective_2, n_trials=40, show_progress_bar=True)"
   ]
  },
  {
   "cell_type": "code",
   "execution_count": 35,
   "id": "fdac3bd5",
   "metadata": {},
   "outputs": [],
   "source": [
    "#study_2.best_value"
   ]
  },
  {
   "cell_type": "markdown",
   "id": "92563bd3",
   "metadata": {},
   "source": [
    "0.91545"
   ]
  },
  {
   "cell_type": "code",
   "execution_count": 36,
   "id": "4a5ea949",
   "metadata": {},
   "outputs": [],
   "source": [
    "#study_2.best_params"
   ]
  },
  {
   "cell_type": "markdown",
   "id": "4e07ee39",
   "metadata": {},
   "source": [
    "# Error Analysis"
   ]
  },
  {
   "cell_type": "code",
   "execution_count": 37,
   "id": "96c237c9",
   "metadata": {},
   "outputs": [],
   "source": [
    "# weights to train later\n",
    "weight_M = 1.6574709291749559\n",
    "weight_H = 6.494618704275055\n",
    "weight_other = 4.141839934777784\n",
    "\n",
    "xgb_gamma_params = {\n",
    "         'n_estimators': 904,\n",
    "         'max_depth': 3,\n",
    "         'learning_rate': 0.025917942386337954,\n",
    "         'gamma': 0.23400159239280982,\n",
    "         'min_child_weight': 0.8473270431776004,\n",
    "         'max_delta_step': 9,\n",
    "         'subsample': 0.5309248067433621,\n",
    "         'colsample_bynode': 0.9777134591145428,\n",
    "         'colsample_bytree': 0.8372737842373374,\n",
    "         'colsample_bylevel': 0.5711105969683837,\n",
    "         'reg_lambda': 0.10145045118989354,\n",
    "         'objective': 'multi:softprob',\n",
    "         'num_class': 3}"
   ]
  },
  {
   "cell_type": "code",
   "execution_count": 38,
   "id": "e1f4c8b9",
   "metadata": {},
   "outputs": [
    {
     "data": {
      "application/vnd.jupyter.widget-view+json": {
       "model_id": "06f12186f0854508b8574089a14d15f6",
       "version_major": 2,
       "version_minor": 0
      },
      "text/plain": [
       "  0%|          | 0/10 [00:00<?, ?it/s]"
      ]
     },
     "metadata": {},
     "output_type": "display_data"
    }
   ],
   "source": [
    "# use the auc score here with weighted param for the imbalanced task and to utilize propapilities\n",
    "targets = []\n",
    "predictions = []\n",
    "\n",
    "scores = []\n",
    "\n",
    "seeds = list(range(0, 10))\n",
    "\n",
    "for seed in tqdm(seeds):\n",
    "\n",
    "    cv = MultilabelStratifiedKFold(n_splits=5, shuffle=True, random_state=seed)\n",
    "\n",
    "    # use alpha+gamma to draw stratified samples\n",
    "    for train_index, valid_index in cv.split(X_DF, X_DF[['Alpha', 'Gamma']].copy()):\n",
    "\n",
    "        # take all columns for the features since the ColumnTransformer will only select the defined ones\n",
    "        X_train, y_train = X_DF.iloc[train_index], X_DF.loc[train_index, 'Gamma']\n",
    "        X_valid, y_valid = X_DF.iloc[valid_index], X_DF.loc[valid_index, 'Gamma']\n",
    "\n",
    "        # use defined pipeline\n",
    "        X_train = preprocess_pipe.fit_transform(X_train)\n",
    "        X_valid = preprocess_pipe.transform(X_valid)  # no fit\n",
    "\n",
    "        # apply function to add labels\n",
    "        y_train = create_gamma_label(y_train, onehot=False)\n",
    "        y_valid = create_gamma_label(y_valid, onehot=False)\n",
    "\n",
    "        # create the sample weight to assign an individual weight for each point\n",
    "        dict_weight = {0:weight_M, 1:weight_H, 2: weight_other}\n",
    "        sample_weights = np.array([dict_weight[i] for i in y_train])\n",
    "\n",
    "        xgb = xgboost.XGBClassifier(**xgb_gamma_params)\n",
    "        \n",
    "        xgb.fit(X_train,\n",
    "                y_train,\n",
    "                eval_set=[(X_train, y_train), (X_valid, y_valid)],\n",
    "                sample_weight=sample_weights,\n",
    "                early_stopping_rounds=218,\n",
    "                verbose=0\n",
    "                )\n",
    "\n",
    "        xgb.fit(X_train, y_train)\n",
    "\n",
    "        y_val_pred = xgb.predict_proba(X_valid)  # currently (n_samples, 3) for 3 classes\n",
    "\n",
    "        # y_valid is (n_samples, ) for xgb, metric needs onehot\n",
    "        y_valid_onehot = np.eye(len(np.unique(y_valid)))[y_valid]\n",
    "\n",
    "        targets.append(y_valid_onehot)\n",
    "        predictions.append(y_val_pred)\n",
    "        \n",
    "        score = average_precision_score(y_valid_onehot, y_val_pred, average='weighted')\n",
    "        scores.append(score)\n",
    "\n",
    "final_score = np.array(scores).mean()"
   ]
  },
  {
   "cell_type": "code",
   "execution_count": 39,
   "id": "2b1ffa88",
   "metadata": {},
   "outputs": [
    {
     "data": {
      "text/plain": [
       "0.915451209159391"
      ]
     },
     "execution_count": 39,
     "metadata": {},
     "output_type": "execute_result"
    }
   ],
   "source": [
    "final_score"
   ]
  },
  {
   "cell_type": "code",
   "execution_count": 40,
   "id": "2e6cf0ee",
   "metadata": {},
   "outputs": [
    {
     "data": {
      "text/plain": [
       "50"
      ]
     },
     "execution_count": 40,
     "metadata": {},
     "output_type": "execute_result"
    }
   ],
   "source": [
    "len(targets)"
   ]
  },
  {
   "cell_type": "code",
   "execution_count": 41,
   "id": "4f0d3a79",
   "metadata": {},
   "outputs": [
    {
     "data": {
      "text/plain": [
       "50"
      ]
     },
     "execution_count": 41,
     "metadata": {},
     "output_type": "execute_result"
    }
   ],
   "source": [
    "len(predictions)"
   ]
  },
  {
   "cell_type": "code",
   "execution_count": 42,
   "id": "812240be",
   "metadata": {},
   "outputs": [
    {
     "data": {
      "text/plain": [
       "(123, 3)"
      ]
     },
     "execution_count": 42,
     "metadata": {},
     "output_type": "execute_result"
    }
   ],
   "source": [
    "targets[0].shape"
   ]
  },
  {
   "cell_type": "code",
   "execution_count": 43,
   "id": "9fc7e735",
   "metadata": {},
   "outputs": [
    {
     "data": {
      "text/plain": [
       "(123, 3)"
      ]
     },
     "execution_count": 43,
     "metadata": {},
     "output_type": "execute_result"
    }
   ],
   "source": [
    "predictions[0].shape"
   ]
  },
  {
   "cell_type": "code",
   "execution_count": 44,
   "id": "1c742caa",
   "metadata": {},
   "outputs": [
    {
     "name": "stdout",
     "output_type": "stream",
     "text": [
      "(6170, 3)\n"
     ]
    }
   ],
   "source": [
    "# merge them together\n",
    "targets_stack = np.concatenate(targets, axis=0)\n",
    "print(targets_stack.shape)"
   ]
  },
  {
   "cell_type": "code",
   "execution_count": 45,
   "id": "1192ecea",
   "metadata": {},
   "outputs": [],
   "source": [
    "predictions_stack = np.concatenate(predictions, axis=0)"
   ]
  },
  {
   "cell_type": "code",
   "execution_count": 46,
   "id": "12b48195",
   "metadata": {},
   "outputs": [],
   "source": [
    "# for a single conf matrix classes are needed not 1hot\n",
    "targets_class = np.array([np.argmax(i) for i in targets_stack])"
   ]
  },
  {
   "cell_type": "code",
   "execution_count": 47,
   "id": "07d6a247",
   "metadata": {},
   "outputs": [],
   "source": [
    "predictions_class = np.array([np.argmax(i) for i in predictions_stack])"
   ]
  },
  {
   "cell_type": "code",
   "execution_count": 48,
   "id": "313f30cb",
   "metadata": {},
   "outputs": [],
   "source": [
    "conf_matrix = confusion_matrix(targets_class, predictions_class)"
   ]
  },
  {
   "cell_type": "code",
   "execution_count": 49,
   "id": "9b758ed2",
   "metadata": {},
   "outputs": [
    {
     "data": {
      "text/plain": [
       "array([[4252,   55,  143],\n",
       "       [ 101,  335,   94],\n",
       "       [ 477,   76,  637]])"
      ]
     },
     "execution_count": 49,
     "metadata": {},
     "output_type": "execute_result"
    }
   ],
   "source": [
    "conf_matrix"
   ]
  },
  {
   "cell_type": "code",
   "execution_count": 50,
   "id": "614ac06b",
   "metadata": {},
   "outputs": [
    {
     "data": {
      "image/png": "[encoded data removed]",
      "text/plain": [
       "<Figure size 1000x700 with 2 Axes>"
      ]
     },
     "metadata": {},
     "output_type": "display_data"
    }
   ],
   "source": [
    "figure = plt.figure(figsize=(10, 7))\n",
    "class_labels = ['Gamma_M', 'Gamma_H', 'Gamma_other']\n",
    "sns.heatmap(conf_matrix, annot=True, cmap='Blues', fmt='d', xticklabels=class_labels, yticklabels=class_labels)\n",
    "plt.xlabel('Predicted Labels')\n",
    "plt.ylabel('True Labels')\n",
    "plt.title('Confusion Matrix for Gamma Classifier')\n",
    "plt.show()"
   ]
  }
 ],
 "metadata": {
  "kernelspec": {
   "display_name": "tabular",
   "language": "python",
   "name": "tabular"
  },
  "language_info": {
   "codemirror_mode": {
    "name": "ipython",
    "version": 3
   },
   "file_extension": ".py",
   "mimetype": "text/x-python",
   "name": "python",
   "nbconvert_exporter": "python",
   "pygments_lexer": "ipython3",
   "version": "3.10.9"
  }
 },
 "nbformat": 4,
 "nbformat_minor": 5
}
