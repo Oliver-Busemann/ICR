{
 "cells": [
  {
   "cell_type": "markdown",
   "id": "dcc8426c",
   "metadata": {},
   "source": [
    "# Build a RandomSearch with the CV-Pipe from scratch using parallel processing"
   ]
  },
  {
   "cell_type": "code",
   "execution_count": 1,
   "id": "50c69e1e",
   "metadata": {},
   "outputs": [],
   "source": [
    "%matplotlib inline\n",
    "import matplotlib.pyplot as plt\n",
    "import os\n",
    "import numpy as np\n",
    "import pandas as pd\n",
    "from sklearn.pipeline import Pipeline\n",
    "from sklearn.impute import SimpleImputer\n",
    "from sklearn.preprocessing import StandardScaler, OneHotEncoder\n",
    "from sklearn.model_selection import StratifiedKFold\n",
    "from sklearn.metrics import log_loss\n",
    "from sklearn.compose import ColumnTransformer\n",
    "from sklearn.svm import SVC\n",
    "import optuna\n",
    "from iterstrat.ml_stratifiers import MultilabelStratifiedKFold\n",
    "from copy import deepcopy\n",
    "from sklearn.metrics import confusion_matrix\n",
    "import seaborn as sns\n",
    "from tqdm.notebook import tqdm\n",
    "import concurrent"
   ]
  },
  {
   "cell_type": "code",
   "execution_count": 2,
   "id": "17f9abb4",
   "metadata": {},
   "outputs": [],
   "source": [
    "folder = '/home/olli/Projects/Kaggle/ICR'"
   ]
  },
  {
   "cell_type": "code",
   "execution_count": 3,
   "id": "a87c2fdd",
   "metadata": {},
   "outputs": [],
   "source": [
    "train_csv = 'train.csv'\n",
    "greek_csv = 'greeks.csv'\n",
    "test_csv = 'test.csv'"
   ]
  },
  {
   "cell_type": "code",
   "execution_count": 4,
   "id": "b2bc4f0d",
   "metadata": {},
   "outputs": [],
   "source": [
    "train_csv_path = os.path.join(folder, train_csv)\n",
    "greek_csv_path = os.path.join(folder, greek_csv)"
   ]
  },
  {
   "cell_type": "code",
   "execution_count": 5,
   "id": "218d6b5f",
   "metadata": {},
   "outputs": [],
   "source": [
    "df = pd.read_csv(train_csv_path)\n",
    "df_g = pd.read_csv(greek_csv_path)"
   ]
  },
  {
   "cell_type": "markdown",
   "id": "7d6871ce",
   "metadata": {},
   "source": [
    "# Preprocess Pipeline"
   ]
  },
  {
   "cell_type": "code",
   "execution_count": 6,
   "id": "35f5180a",
   "metadata": {},
   "outputs": [],
   "source": [
    "cat_features = ['EJ']\n",
    "num_features = list(df.columns)\n",
    "for remove_value in ['Id', 'EJ', 'Class']:\n",
    "    num_features.remove(remove_value)"
   ]
  },
  {
   "cell_type": "code",
   "execution_count": 7,
   "id": "4f00a3e6",
   "metadata": {},
   "outputs": [],
   "source": [
    "imputer_num = SimpleImputer(strategy='median')\n",
    "imputer_cat = SimpleImputer(strategy='most_frequent')"
   ]
  },
  {
   "cell_type": "code",
   "execution_count": 8,
   "id": "85bc5f8f",
   "metadata": {},
   "outputs": [],
   "source": [
    "# use a standardscaler due to the outliers\n",
    "scaler_num = StandardScaler()"
   ]
  },
  {
   "cell_type": "code",
   "execution_count": 9,
   "id": "a754cd15",
   "metadata": {},
   "outputs": [],
   "source": [
    "encoder_cat = OneHotEncoder(sparse_output=False)"
   ]
  },
  {
   "cell_type": "code",
   "execution_count": 10,
   "id": "318f2be8",
   "metadata": {},
   "outputs": [],
   "source": [
    "num_pipeline = Pipeline([\n",
    "    ('Num_Imputer', imputer_num),\n",
    "    ('Num_Scaler', scaler_num)\n",
    "])"
   ]
  },
  {
   "cell_type": "code",
   "execution_count": 11,
   "id": "bd215150",
   "metadata": {},
   "outputs": [],
   "source": [
    "cat_pipeline = Pipeline([\n",
    "    ('Cat_Imputer', imputer_cat),\n",
    "    ('Cat_Encoder', encoder_cat)\n",
    "])"
   ]
  },
  {
   "cell_type": "code",
   "execution_count": 12,
   "id": "ba6779a8",
   "metadata": {},
   "outputs": [],
   "source": [
    "preprocess_pipe = ColumnTransformer([\n",
    "    ('Num_Pipe', num_pipeline, num_features),\n",
    "    ('Cat_Pipe', cat_pipeline, cat_features)\n",
    "])"
   ]
  },
  {
   "cell_type": "code",
   "execution_count": 13,
   "id": "3cadea2a",
   "metadata": {},
   "outputs": [],
   "source": [
    "# merge dfs\n",
    "X_DF = df.copy()\n",
    "X_DF['Alpha'] = df_g.Alpha\n",
    "X_DF['Gamma'] = df_g.Gamma"
   ]
  },
  {
   "cell_type": "code",
   "execution_count": 14,
   "id": "1aba54c2",
   "metadata": {},
   "outputs": [],
   "source": [
    "# metric\n",
    "def balanced_log_loss(y_true, y_pred):\n",
    "    nc = np.bincount(y_true)  # [num_class_0, num_class_1]\n",
    "    return log_loss(y_true, y_pred, sample_weight=1/nc[y_true], eps=1e-15)"
   ]
  },
  {
   "cell_type": "code",
   "execution_count": 15,
   "id": "b4f75139",
   "metadata": {},
   "outputs": [],
   "source": [
    "import warnings\n",
    "warnings.filterwarnings('ignore')\n",
    "optuna.logging.set_verbosity(optuna.logging.WARNING)"
   ]
  },
  {
   "cell_type": "markdown",
   "id": "3b56b85b",
   "metadata": {},
   "source": [
    "# Single Funtion for a set of hyperparameters to parallelize"
   ]
  },
  {
   "cell_type": "code",
   "execution_count": 16,
   "id": "401fee53",
   "metadata": {},
   "outputs": [],
   "source": [
    "# calculates the score for a single set of random parameters\n",
    "\n",
    "def single_score(C, kernel, gamma, degree, coef, weight_1):\n",
    "\n",
    "    scores = []\n",
    "\n",
    "    seeds = list(range(0, 10))\n",
    "\n",
    "    for seed in seeds:\n",
    "\n",
    "        cv = MultilabelStratifiedKFold(n_splits=5, shuffle=True, random_state=seed)\n",
    "\n",
    "        # use alpha+gamma to draw stratified samples\n",
    "        for train_index, valid_index in cv.split(X_DF, X_DF[['Alpha', 'Gamma']].copy()):\n",
    "\n",
    "            # take all columns for the features since the ColumnTransformer will only select the defined ones\n",
    "            X_train, y_train = X_DF.iloc[train_index], X_DF.loc[train_index, 'Class']\n",
    "            X_valid, y_valid = X_DF.iloc[valid_index], X_DF.loc[valid_index, 'Class']\n",
    "\n",
    "            # use defined pipeline\n",
    "            X_train = preprocess_pipe.fit_transform(X_train)\n",
    "            X_valid = preprocess_pipe.transform(X_valid)  # no fit\n",
    "\n",
    "            y_train = np.array(y_train)\n",
    "            y_valid = np.array(y_valid)\n",
    "\n",
    "            svm = SVC(C=C,\n",
    "                      kernel=kernel,\n",
    "                      gamma=gamma,\n",
    "                      degree=degree,\n",
    "                      coef0=coef,\n",
    "                      probability=True,\n",
    "                      class_weight={0: 1, 1: weight_1})\n",
    "                      \n",
    "\n",
    "            svm.fit(X_train, y_train)\n",
    "\n",
    "            y_val_pred = svm.predict_proba(X_valid)\n",
    "\n",
    "            score = balanced_log_loss(y_valid, y_val_pred)\n",
    "            scores.append(score)\n",
    "\n",
    "    final_score = np.array(scores).mean()\n",
    "    \n",
    "    return final_score, (C, kernel, gamma, degree, coef, weight_1)"
   ]
  },
  {
   "cell_type": "markdown",
   "id": "0af562eb",
   "metadata": {},
   "source": [
    "# Define the parameters to try"
   ]
  },
  {
   "cell_type": "code",
   "execution_count": 17,
   "id": "601c653b",
   "metadata": {},
   "outputs": [],
   "source": [
    "C_values = np.arange(0.1, 5, 0.1)\n",
    "kernel_values = ['linear', 'poly', 'rbf', 'sigmoid']\n",
    "gamma_values = np.arange(0.1, 10, 0.1)\n",
    "degree_values = [1, 2, 3, 4, 5]\n",
    "coef_values = np.arange(-1, 1, 0.01)\n",
    "weight_1_values = np.arange(4, 10, 0.1)"
   ]
  },
  {
   "cell_type": "markdown",
   "id": "708072ea",
   "metadata": {},
   "source": [
    "# Define the RandomSearch"
   ]
  },
  {
   "cell_type": "code",
   "execution_count": 18,
   "id": "ecdf1ec0",
   "metadata": {},
   "outputs": [],
   "source": [
    "# run defined number of random trials\n",
    "\n",
    "def randomSearch(tries=100,\n",
    "                 kernel_values=kernel_values,\n",
    "                 C_values=C_values,\n",
    "                 degree_values=degree_values,\n",
    "                 gamma_values=gamma_values,\n",
    "                 coef_values=coef_values, \n",
    "                 weight_1_values=weight_1_values):\n",
    "    \n",
    "    try_parameter = []  # append parameter tuples here\n",
    "    \n",
    "    # for the defined number of trials first get random parameter combinations to execute in parallel\n",
    "    for _ in range(tries):\n",
    "        c = C_values[np.random.randint(len(C_values))]\n",
    "        k = kernel_values[np.random.randint(len(kernel_values))]\n",
    "        g = gamma_values[np.random.randint(len(gamma_values))]\n",
    "        d = degree_values[np.random.randint(len(degree_values))]\n",
    "        co = coef_values[np.random.randint(len(coef_values))]\n",
    "        w = weight_1_values[np.random.randint(len(weight_1_values))]\n",
    "        \n",
    "        # add the random parameters for a single run\n",
    "        try_parameter.append((c, k, g, d, co, w))\n",
    "    \n",
    "    with concurrent.futures.ProcessPoolExecutor() as executor:\n",
    "        results = list(tqdm(executor.map(single_score, *zip(*try_parameter)), total=len(try_parameter)))\n",
    "        \n",
    "    best_score = 999\n",
    "    best_index = None\n",
    "    \n",
    "    for index, result in enumerate(results):\n",
    "        if result[0] < best_score:\n",
    "            best_score = result[0]\n",
    "            best_index = index\n",
    "    \n",
    "    print(f'Best Score: {best_score} at index {best_index}')\n",
    "    \n",
    "    return results"
   ]
  },
  {
   "cell_type": "code",
   "execution_count": 19,
   "id": "aba671d4",
   "metadata": {
    "scrolled": false
   },
   "outputs": [
    {
     "data": {
      "application/vnd.jupyter.widget-view+json": {
       "model_id": "3632f25ba6b2470fbd810e873989a030",
       "version_major": 2,
       "version_minor": 0
      },
      "text/plain": [
       "  0%|          | 0/1000 [00:00<?, ?it/s]"
      ]
     },
     "metadata": {},
     "output_type": "display_data"
    },
    {
     "name": "stdout",
     "output_type": "stream",
     "text": [
      "Best Score: 0.5777533108849062 at index 272\n"
     ]
    }
   ],
   "source": [
    "try_1_results = randomSearch(tries=1000)"
   ]
  },
  {
   "cell_type": "markdown",
   "id": "6544bed3",
   "metadata": {},
   "source": [
    "1000 * 10 * 5 * 5 = 250.000 tries in ~7 min with only cpu is not bad"
   ]
  },
  {
   "cell_type": "code",
   "execution_count": 20,
   "id": "3a6d07e2",
   "metadata": {},
   "outputs": [
    {
     "data": {
      "text/plain": [
       "(0.5777533108849062, (4.5, 'rbf', 0.1, 3, -0.94, 6.999999999999989))"
      ]
     },
     "execution_count": 20,
     "metadata": {},
     "output_type": "execute_result"
    }
   ],
   "source": [
    "try_1_results[272]"
   ]
  },
  {
   "cell_type": "markdown",
   "id": "aeec1ddd",
   "metadata": {},
   "source": [
    "# Round 2"
   ]
  },
  {
   "cell_type": "code",
   "execution_count": 21,
   "id": "a67a3bd9",
   "metadata": {},
   "outputs": [],
   "source": [
    "C_values_2 = np.arange(0.1, 30, 0.1)\n",
    "kernel_values_2 = ['rbf']\n",
    "gamma_values_2 = np.arange(0.01, 1, 0.01)\n",
    "degree_values_2 = [1]  # now useless \n",
    "coef_values_2 = np.arange(-1, -0.5, 0.01)\n",
    "weight_1_values_2 = np.arange(6, 9, 0.1)"
   ]
  },
  {
   "cell_type": "code",
   "execution_count": 23,
   "id": "30f6caac",
   "metadata": {},
   "outputs": [
    {
     "data": {
      "application/vnd.jupyter.widget-view+json": {
       "model_id": "54cdf68a52f3454b932a70371372c1f3",
       "version_major": 2,
       "version_minor": 0
      },
      "text/plain": [
       "  0%|          | 0/1000 [00:00<?, ?it/s]"
      ]
     },
     "metadata": {},
     "output_type": "display_data"
    },
    {
     "name": "stdout",
     "output_type": "stream",
     "text": [
      "Best Score: 0.455895150196935 at index 886\n"
     ]
    }
   ],
   "source": [
    "try_2_results = randomSearch(tries=1000, kernel_values=kernel_values_2, C_values=C_values_2, \\\n",
    "        gamma_values=gamma_values_2, degree_values=degree_values_2, coef_values=coef_values_2, \\\n",
    "        weight_1_values=weight_1_values_2)"
   ]
  },
  {
   "cell_type": "code",
   "execution_count": 25,
   "id": "013836d0",
   "metadata": {},
   "outputs": [
    {
     "data": {
      "text/plain": [
       "(0.455895150196935,\n",
       " (5.4, 'rbf', 0.02, 1, -0.8099999999999998, 7.299999999999995))"
      ]
     },
     "execution_count": 25,
     "metadata": {},
     "output_type": "execute_result"
    }
   ],
   "source": [
    "try_2_results[886]"
   ]
  },
  {
   "cell_type": "markdown",
   "id": "899c717b",
   "metadata": {},
   "source": [
    "# Round 3"
   ]
  },
  {
   "cell_type": "code",
   "execution_count": 26,
   "id": "48cab8db",
   "metadata": {},
   "outputs": [],
   "source": [
    "C_values_3 = np.arange(3, 7, 0.1)\n",
    "kernel_values_3 = ['rbf']\n",
    "gamma_values_3 = np.arange(0.001, 0.04, 0.001)\n",
    "degree_values_3 = [1]  # now useless \n",
    "coef_values_3 = np.arange(-0.9, -0.7, 0.01)\n",
    "weight_1_values_3 = np.arange(6.8, 7.8, 0.05)"
   ]
  },
  {
   "cell_type": "code",
   "execution_count": 27,
   "id": "97674733",
   "metadata": {},
   "outputs": [
    {
     "data": {
      "application/vnd.jupyter.widget-view+json": {
       "model_id": "329de8d492e74c9db2e727291bdad3a2",
       "version_major": 2,
       "version_minor": 0
      },
      "text/plain": [
       "  0%|          | 0/1000 [00:00<?, ?it/s]"
      ]
     },
     "metadata": {},
     "output_type": "display_data"
    },
    {
     "name": "stdout",
     "output_type": "stream",
     "text": [
      "Best Score: 0.45122001210498125 at index 944\n"
     ]
    }
   ],
   "source": [
    "try_3_results = randomSearch(tries=1000, kernel_values=kernel_values_3, C_values=C_values_3, \\\n",
    "        gamma_values=gamma_values_3, degree_values=degree_values_3, coef_values=coef_values_3, \\\n",
    "        weight_1_values=weight_1_values_3)"
   ]
  },
  {
   "cell_type": "code",
   "execution_count": 29,
   "id": "41d1ff15",
   "metadata": {},
   "outputs": [
    {
     "data": {
      "text/plain": [
       "(0.45122001210498125,\n",
       " (5.000000000000002, 'rbf', 0.017, 1, -0.7399999999999999, 7.599999999999997))"
      ]
     },
     "execution_count": 29,
     "metadata": {},
     "output_type": "execute_result"
    }
   ],
   "source": [
    "try_3_results[944]"
   ]
  },
  {
   "cell_type": "code",
   "execution_count": null,
   "id": "402a62c5",
   "metadata": {},
   "outputs": [],
   "source": []
  }
 ],
 "metadata": {
  "kernelspec": {
   "display_name": "tabular",
   "language": "python",
   "name": "tabular"
  },
  "language_info": {
   "codemirror_mode": {
    "name": "ipython",
    "version": 3
   },
   "file_extension": ".py",
   "mimetype": "text/x-python",
   "name": "python",
   "nbconvert_exporter": "python",
   "pygments_lexer": "ipython3",
   "version": "3.10.9"
  }
 },
 "nbformat": 4,
 "nbformat_minor": 5
}
